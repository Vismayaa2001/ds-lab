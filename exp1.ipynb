{
 "cells": [
  {
   "cell_type": "code",
   "execution_count": 3,
   "id": "5ee59f6f",
   "metadata": {},
   "outputs": [
    {
     "name": "stdout",
     "output_type": "stream",
     "text": [
      "Hello World\n"
     ]
    }
   ],
   "source": [
    "print(\"Hello World\")\n"
   ]
  },
  {
   "cell_type": "code",
   "execution_count": 4,
   "id": "f4c78e56",
   "metadata": {},
   "outputs": [
    {
     "name": "stdout",
     "output_type": "stream",
     "text": [
      "<class 'int'>\n"
     ]
    }
   ],
   "source": [
    "a=5\n",
    "print(type(a))"
   ]
  },
  {
   "cell_type": "code",
   "execution_count": 5,
   "id": "7dce1057",
   "metadata": {},
   "outputs": [
    {
     "name": "stdout",
     "output_type": "stream",
     "text": [
      "1.5\n",
      "<class 'float'>\n"
     ]
    }
   ],
   "source": [
    "f=1.5\n",
    "\n",
    "print(f)\n",
    "print(type(f))"
   ]
  },
  {
   "cell_type": "code",
   "execution_count": 6,
   "id": "b131cedc",
   "metadata": {},
   "outputs": [
    {
     "name": "stdout",
     "output_type": "stream",
     "text": [
      "heyy!!!\n",
      "<class 'str'>\n"
     ]
    }
   ],
   "source": [
    "s=\"heyy!!!\"\n",
    "print(s)\n",
    "print(type(s))"
   ]
  },
  {
   "cell_type": "code",
   "execution_count": 8,
   "id": "9be94e4a",
   "metadata": {},
   "outputs": [
    {
     "name": "stdout",
     "output_type": "stream",
     "text": [
      "True\n",
      "<class 'bool'>\n"
     ]
    }
   ],
   "source": [
    "b=True \n",
    "print(b)\n",
    "print(type(b)) "
   ]
  },
  {
   "cell_type": "code",
   "execution_count": 10,
   "id": "1d61011e",
   "metadata": {},
   "outputs": [
    {
     "name": "stdout",
     "output_type": "stream",
     "text": [
      "False\n",
      "<class 'bool'>\n"
     ]
    }
   ],
   "source": [
    "a=False\n",
    "print(a)\n",
    "print(type(a))"
   ]
  },
  {
   "cell_type": "code",
   "execution_count": 12,
   "id": "da2b340d",
   "metadata": {},
   "outputs": [
    {
     "name": "stdout",
     "output_type": "stream",
     "text": [
      "(5+3j)\n",
      "<class 'complex'>\n"
     ]
    }
   ],
   "source": [
    "t=5+3j \n",
    "print(t)\n",
    "print(type(t)) "
   ]
  },
  {
   "cell_type": "code",
   "execution_count": 14,
   "id": "479a0793",
   "metadata": {},
   "outputs": [
    {
     "name": "stdout",
     "output_type": "stream",
     "text": [
      "10\n"
     ]
    }
   ],
   "source": [
    "a = 7\n",
    "\n",
    "b = 3\n",
    "\n",
    "sum = a + b\n",
    "print(sum)"
   ]
  },
  {
   "cell_type": "code",
   "execution_count": 15,
   "id": "7d30cea3",
   "metadata": {},
   "outputs": [
    {
     "name": "stdout",
     "output_type": "stream",
     "text": [
      "-6\n"
     ]
    }
   ],
   "source": [
    "a=9\n",
    "b=15\n",
    "diff = a - b\n",
    "print(diff)"
   ]
  },
  {
   "cell_type": "code",
   "execution_count": 16,
   "id": "99e37849",
   "metadata": {},
   "outputs": [
    {
     "name": "stdout",
     "output_type": "stream",
     "text": [
      "8\n"
     ]
    }
   ],
   "source": [
    "a=2\n",
    "b=4\n",
    "prod = a * b\n",
    "print(prod)"
   ]
  },
  {
   "cell_type": "code",
   "execution_count": 17,
   "id": "76ce239c",
   "metadata": {},
   "outputs": [
    {
     "name": "stdout",
     "output_type": "stream",
     "text": [
      "0.5\n"
     ]
    }
   ],
   "source": [
    "quo = a / b\n",
    "\n",
    "print(quo)"
   ]
  },
  {
   "cell_type": "code",
   "execution_count": 18,
   "id": "c3ca560b",
   "metadata": {},
   "outputs": [
    {
     "name": "stdout",
     "output_type": "stream",
     "text": [
      "0\n"
     ]
    }
   ],
   "source": [
    "quot = a // b\n",
    "\n",
    "print(quot)"
   ]
  },
  {
   "cell_type": "code",
   "execution_count": 19,
   "id": "37c473f0",
   "metadata": {},
   "outputs": [
    {
     "name": "stdout",
     "output_type": "stream",
     "text": [
      "2\n"
     ]
    }
   ],
   "source": [
    "a=7\n",
    "b=3\n",
    "q = a // b\n",
    "print(q)"
   ]
  },
  {
   "cell_type": "code",
   "execution_count": 20,
   "id": "6301c2d5",
   "metadata": {},
   "outputs": [
    {
     "name": "stdout",
     "output_type": "stream",
     "text": [
      "1\n"
     ]
    }
   ],
   "source": [
    "rem = a % b\n",
    "print(rem)"
   ]
  },
  {
   "cell_type": "code",
   "execution_count": 21,
   "id": "464aa90c",
   "metadata": {},
   "outputs": [
    {
     "name": "stdout",
     "output_type": "stream",
     "text": [
      "1\n"
     ]
    }
   ],
   "source": [
    "pow = a ** b\n",
    "\n",
    "print(rem)"
   ]
  },
  {
   "cell_type": "code",
   "execution_count": 22,
   "id": "4a9098cf",
   "metadata": {},
   "outputs": [
    {
     "name": "stdout",
     "output_type": "stream",
     "text": [
      "10\n",
      "4\n",
      "21\n"
     ]
    }
   ],
   "source": [
    "a = 7\n",
    "b = 3\n",
    "sum = a + b\n",
    "print(sum) \n",
    "\n",
    "dif = a - b\n",
    "print(dif) # 4\n",
    "\n",
    "pro = a * b\n",
    "print(pro)"
   ]
  },
  {
   "cell_type": "code",
   "execution_count": 23,
   "id": "4f9d08cb",
   "metadata": {},
   "outputs": [
    {
     "name": "stdout",
     "output_type": "stream",
     "text": [
      "True False\n"
     ]
    }
   ],
   "source": [
    "x= True\n",
    "y= False\n",
    "print(x,y)"
   ]
  },
  {
   "cell_type": "code",
   "execution_count": 24,
   "id": "359f91d1",
   "metadata": {},
   "outputs": [
    {
     "name": "stdout",
     "output_type": "stream",
     "text": [
      "True\n"
     ]
    }
   ],
   "source": [
    "p=2<7\n",
    "print(p)"
   ]
  },
  {
   "cell_type": "code",
   "execution_count": 25,
   "id": "1aa3520e",
   "metadata": {},
   "outputs": [
    {
     "name": "stdout",
     "output_type": "stream",
     "text": [
      "True False\n",
      "True\n",
      "False\n",
      "False\n",
      "False\n",
      "True\n",
      "True\n"
     ]
    }
   ],
   "source": [
    "x=True\n",
    "y=False\n",
    "print(x,y)\n",
    "p = 5 > 3\n",
    "print(p)\n",
    "q = -7 < -14\n",
    "print(q)\n",
    "r = 3 > 7\n",
    "print(r)\n",
    "print(p and q)\n",
    "print(p or q)\n",
    "print(not q)"
   ]
  },
  {
   "cell_type": "code",
   "execution_count": 26,
   "id": "12baca92",
   "metadata": {},
   "outputs": [
    {
     "name": "stdout",
     "output_type": "stream",
     "text": [
      "hello\n",
      "hello\n"
     ]
    }
   ],
   "source": [
    "s = 'hello' \n",
    "u =\"hello\"\n",
    "\n",
    "print(s)\n",
    "print(u)"
   ]
  },
  {
   "cell_type": "code",
   "execution_count": 27,
   "id": "de031e25",
   "metadata": {},
   "outputs": [
    {
     "name": "stdout",
     "output_type": "stream",
     "text": [
      "hello world\n"
     ]
    }
   ],
   "source": [
    "s1 = \"hello\"\n",
    "s2 = \"world\"\n",
    "s3 = s1 + ' ' + s2\n",
    "print(s3)"
   ]
  },
  {
   "cell_type": "code",
   "execution_count": 28,
   "id": "0a081f1c",
   "metadata": {},
   "outputs": [
    {
     "name": "stdout",
     "output_type": "stream",
     "text": [
      "hello world\n",
      "hello world 1011\n",
      "16\n",
      "HELLO WORLD 1011\n"
     ]
    }
   ],
   "source": [
    "s1 = \"hello\"\n",
    "s2 = 'world'\n",
    "s3 = s1 + ' ' + s2\n",
    "print(s3)\n",
    "s3 = '%s %s %d' %(s1, s2, 1011)\n",
    "print(s3)\n",
    "print(len(s3))\n",
    "print(s3.upper())\n",
    "\n"
   ]
  },
  {
   "cell_type": "code",
   "execution_count": 29,
   "id": "d8d97663",
   "metadata": {},
   "outputs": [
    {
     "name": "stdout",
     "output_type": "stream",
     "text": [
      "16\n"
     ]
    }
   ],
   "source": [
    "print(len(s3))"
   ]
  },
  {
   "cell_type": "code",
   "execution_count": 30,
   "id": "99a2024c",
   "metadata": {},
   "outputs": [
    {
     "name": "stdout",
     "output_type": "stream",
     "text": [
      "Hello world 1011\n"
     ]
    }
   ],
   "source": [
    "print(s3.capitalize())"
   ]
  },
  {
   "cell_type": "code",
   "execution_count": 31,
   "id": "935b01ae",
   "metadata": {},
   "outputs": [
    {
     "name": "stdout",
     "output_type": "stream",
     "text": [
      "hello world 1011\n"
     ]
    }
   ],
   "source": [
    "print(s3.lower())"
   ]
  },
  {
   "cell_type": "code",
   "execution_count": 32,
   "id": "b430cada",
   "metadata": {},
   "outputs": [
    {
     "name": "stdout",
     "output_type": "stream",
     "text": [
      "['hello', 'world', 'how', 'are', 'you']\n"
     ]
    }
   ],
   "source": [
    "print('hello world how are you'.split(' '))"
   ]
  },
  {
   "cell_type": "code",
   "execution_count": 33,
   "id": "9fa205c9",
   "metadata": {},
   "outputs": [
    {
     "name": "stdout",
     "output_type": "stream",
     "text": [
      "doodle\n"
     ]
    }
   ],
   "source": [
    "print('google'.replace('g','d'))"
   ]
  },
  {
   "cell_type": "code",
   "execution_count": 34,
   "id": "0fbe5496",
   "metadata": {},
   "outputs": [
    {
     "name": "stdout",
     "output_type": "stream",
     "text": [
      "0\n",
      "-1\n"
     ]
    }
   ],
   "source": [
    "word = 'classification'\n",
    "print(word.find('class'))\n",
    "print(word.find('ing'))"
   ]
  },
  {
   "cell_type": "code",
   "execution_count": 46,
   "id": "d2ff2f71",
   "metadata": {},
   "outputs": [
    {
     "name": "stdout",
     "output_type": "stream",
     "text": [
      "Are you familiar with python :yes\n",
      "You can skip this course :-|\n"
     ]
    }
   ],
   "source": [
    "res = input('Are you familiar with python :')\n",
    "\n",
    "if res.upper() == \"YES\":\n",
    "\n",
    "    print(\"You can skip this course :-|\") \n",
    "elif response.upper() == \"NO\":\n",
    "\n",
    "    print(\"You are at the right place :-)\")\n",
    "else:\n",
    "\n",
    "    print('Sorry wrong input :-(')"
   ]
  },
  {
   "cell_type": "code",
   "execution_count": 47,
   "id": "70f871c6",
   "metadata": {},
   "outputs": [
    {
     "name": "stdout",
     "output_type": "stream",
     "text": [
      "Not 3 digit\n"
     ]
    }
   ],
   "source": [
    "num=70\n",
    "if num > 99 and number < 1000:\n",
    "    print('3 digit')\n",
    "else:\n",
    " print('Not 3 digit')"
   ]
  },
  {
   "cell_type": "code",
   "execution_count": 48,
   "id": "d74346ac",
   "metadata": {},
   "outputs": [
    {
     "name": "stdout",
     "output_type": "stream",
     "text": [
      "0 1 2 3 4 5 6 7 8 9 "
     ]
    }
   ],
   "source": [
    "for x in range(10):\n",
    "    print(x,end=' ')"
   ]
  },
  {
   "cell_type": "code",
   "execution_count": 50,
   "id": "c2ee9450",
   "metadata": {},
   "outputs": [
    {
     "name": "stdout",
     "output_type": "stream",
     "text": [
      "Enter a limit : 5\n",
      "Odd sum = 1\n",
      "Odd sum = 1\n",
      "Odd sum = 4\n",
      "Odd sum = 4\n",
      "Odd sum = 9\n"
     ]
    }
   ],
   "source": [
    "limit = int(input('Enter a limit : '))\n",
    "sum = 0\n",
    "for i in range(1,limit + 1):\n",
    "    if i%2 !=0:\n",
    "\n",
    "        sum = sum + i\n",
    "\n",
    "    print(\"Odd sum = \"+str(sum))"
   ]
  },
  {
   "cell_type": "code",
   "execution_count": 53,
   "id": "9c8674a6",
   "metadata": {},
   "outputs": [
    {
     "name": "stdout",
     "output_type": "stream",
     "text": [
      "[0, 1, 2, 3, 4, 5, 6, 7, 8, 9]\n"
     ]
    }
   ],
   "source": [
    "range(a)\n",
    "\n",
    "print(list(range(10)))"
   ]
  },
  {
   "cell_type": "code",
   "execution_count": 54,
   "id": "69544d69",
   "metadata": {},
   "outputs": [
    {
     "name": "stdout",
     "output_type": "stream",
     "text": [
      "[1, 2, 3, 4, 5, 6, 7, 8, 9]\n",
      "[1, 3, 5, 7, 9]\n"
     ]
    }
   ],
   "source": [
    "print(list(range(1,10)))\n",
    "print(list(range(1,10,2)))"
   ]
  },
  {
   "cell_type": "code",
   "execution_count": 55,
   "id": "bde62f57",
   "metadata": {},
   "outputs": [
    {
     "name": "stdout",
     "output_type": "stream",
     "text": [
      "Enter number : 7\n",
      "7\n"
     ]
    }
   ],
   "source": [
    "nuM = int(input('Enter number : ')) \n",
    "s = 0\n",
    "while num > 0 :\n",
    "    s += num%10\n",
    "    num = num//10\n",
    "print(s)"
   ]
  },
  {
   "cell_type": "code",
   "execution_count": 56,
   "id": "1580a613",
   "metadata": {},
   "outputs": [
    {
     "name": "stdout",
     "output_type": "stream",
     "text": [
      "Enter number : 3\n",
      "3\n"
     ]
    }
   ],
   "source": [
    "number = int(input('Enter number : ')) \n",
    "s = 0\n",
    "\n",
    "while number > 0 :\n",
    "\n",
    " s += number%10\n",
    " number = number//10\n",
    "\n",
    " print(s)"
   ]
  },
  {
   "cell_type": "code",
   "execution_count": 65,
   "id": "19259f71",
   "metadata": {},
   "outputs": [
    {
     "name": "stdout",
     "output_type": "stream",
     "text": [
      "Enter number : 400\n",
      "2 3 5 7 11 13 17 19 23 29 31 37 41 43 47 53 59 61 67 71 73 79 83 89 97 101 103 107 109 113 127 131 137 139 149 151 157 163 167 173 179 181 191 193 197 199 211 223 227 229 233 239 241 251 257 263 269 271 277 281 283 293 307 311 313 317 331 337 347 349 353 359 367 373 379 383 389 397 "
     ]
    }
   ],
   "source": [
    "imit = int(input('Enter number : ')) \n",
    "for num in range(2,limit+1):\n",
    "        is_divisible = False\n",
    "        k=2\n",
    "        while k <= num//2 :\n",
    "            if num % k == 0:  \n",
    "                is_divisible=True \n",
    "                break;\n",
    "            k += 1\n",
    "        if not is_divisible:\n",
    "            print(num,end=' ')\n"
   ]
  },
  {
   "cell_type": "code",
   "execution_count": 66,
   "id": "3085b4b0",
   "metadata": {},
   "outputs": [
    {
     "name": "stdout",
     "output_type": "stream",
     "text": [
      "['a', 'b', 1, 1.2, True]\n"
     ]
    }
   ],
   "source": [
    "mylist = ['a','b', 1, 1.2, True]\n",
    "print(mylist)"
   ]
  },
  {
   "cell_type": "code",
   "execution_count": 67,
   "id": "515b0426",
   "metadata": {},
   "outputs": [
    {
     "name": "stdout",
     "output_type": "stream",
     "text": [
      "['a', 'b', 1, 1.2, True, 'new']\n"
     ]
    }
   ],
   "source": [
    "mylist.append('new')\n",
    "\n",
    "print(mylist)"
   ]
  },
  {
   "cell_type": "code",
   "execution_count": 68,
   "id": "307730e4",
   "metadata": {},
   "outputs": [
    {
     "name": "stdout",
     "output_type": "stream",
     "text": [
      "new\n"
     ]
    }
   ],
   "source": [
    "print(mylist.pop())"
   ]
  },
  {
   "cell_type": "code",
   "execution_count": 69,
   "id": "40530c6d",
   "metadata": {},
   "outputs": [
    {
     "name": "stdout",
     "output_type": "stream",
     "text": [
      "['a', 'new', 'b', 1, 1.2, True]\n"
     ]
    }
   ],
   "source": [
    "mylist.insert(1,'new')\n",
    "print(mylist)"
   ]
  },
  {
   "cell_type": "code",
   "execution_count": 70,
   "id": "d9002320",
   "metadata": {},
   "outputs": [
    {
     "name": "stdout",
     "output_type": "stream",
     "text": [
      "['a', 'b', 1, 1.2, True]\n"
     ]
    }
   ],
   "source": [
    "mylist.remove('new')\n",
    "\n",
    "print(mylist)"
   ]
  },
  {
   "cell_type": "code",
   "execution_count": 71,
   "id": "2bce243d",
   "metadata": {},
   "outputs": [
    {
     "name": "stdout",
     "output_type": "stream",
     "text": [
      "['a', 'b', 1, 1.2, True, [3, 5, 7]]\n"
     ]
    }
   ],
   "source": [
    "b = [3,5,7]\n",
    "\n",
    "mylist.append(b)\n",
    "print(mylist)"
   ]
  },
  {
   "cell_type": "code",
   "execution_count": 72,
   "id": "2bc52824",
   "metadata": {},
   "outputs": [
    {
     "name": "stdout",
     "output_type": "stream",
     "text": [
      "['a', 'b', 1, 1.2, True]\n"
     ]
    }
   ],
   "source": [
    "mylist.remove(b)\n",
    "\n",
    "print(mylist)"
   ]
  },
  {
   "cell_type": "code",
   "execution_count": 73,
   "id": "7451f79e",
   "metadata": {},
   "outputs": [
    {
     "name": "stdout",
     "output_type": "stream",
     "text": [
      "['a', 'b', 1, 1.2, True, 3, 5, 7]\n"
     ]
    }
   ],
   "source": [
    "mylist.extend(b)\n",
    "\n",
    "print(mylist)"
   ]
  },
  {
   "cell_type": "code",
   "execution_count": 74,
   "id": "c52d0ed1",
   "metadata": {},
   "outputs": [
    {
     "name": "stdout",
     "output_type": "stream",
     "text": [
      "[3, 12, 17, 18, 24]\n"
     ]
    }
   ],
   "source": [
    "a = [12,17,18,24,3]\n",
    "\n",
    "a.sort()\n",
    "\n",
    "print(a)"
   ]
  },
  {
   "cell_type": "code",
   "execution_count": 75,
   "id": "357df551",
   "metadata": {},
   "outputs": [
    {
     "name": "stdout",
     "output_type": "stream",
     "text": [
      "['V', 'I', 'S', 'M', 'A', 'Y', 'A']\n"
     ]
    }
   ],
   "source": [
    "print(list('VISMAYA'))"
   ]
  },
  {
   "cell_type": "code",
   "execution_count": 81,
   "id": "7d7b5d64",
   "metadata": {},
   "outputs": [
    {
     "name": "stdout",
     "output_type": "stream",
     "text": [
      "VISMAYA\n"
     ]
    }
   ],
   "source": [
    "person = {'name' : 'VISMAYA', 'age': 21}\n",
    "print(person['name'])"
   ]
  },
  {
   "cell_type": "code",
   "execution_count": 82,
   "id": "c504d80d",
   "metadata": {},
   "outputs": [
    {
     "name": "stdout",
     "output_type": "stream",
     "text": [
      "True\n"
     ]
    }
   ],
   "source": [
    "print('name' in person)"
   ]
  },
  {
   "cell_type": "code",
   "execution_count": 83,
   "id": "15d37bc6",
   "metadata": {},
   "outputs": [
    {
     "name": "stdout",
     "output_type": "stream",
     "text": [
      "False\n"
     ]
    }
   ],
   "source": [
    "print('sex' in person)"
   ]
  },
  {
   "cell_type": "code",
   "execution_count": 84,
   "id": "52b9ab1c",
   "metadata": {},
   "outputs": [
    {
     "name": "stdout",
     "output_type": "stream",
     "text": [
      "{'name': 'VISMAYA', 'age': 21, 'sex': 'Female'}\n"
     ]
    }
   ],
   "source": [
    "person['sex'] = 'Female'\n",
    "\n",
    "print(person)"
   ]
  },
  {
   "cell_type": "code",
   "execution_count": 86,
   "id": "c7dde29a",
   "metadata": {},
   "outputs": [
    {
     "name": "stdout",
     "output_type": "stream",
     "text": [
      "name VISMAYA\n",
      "age 21\n",
      "sex Female\n"
     ]
    }
   ],
   "source": [
    "for item in person:\n",
    "    print(item,person[item])"
   ]
  },
  {
   "cell_type": "code",
   "execution_count": 87,
   "id": "16b1617d",
   "metadata": {},
   "outputs": [
    {
     "name": "stdout",
     "output_type": "stream",
     "text": [
      "Name \t:\t VISMAYA\n",
      "Age \t:\t 21\n",
      "Sex \t:\t Female\n"
     ]
    }
   ],
   "source": [
    "for (key,value) in person.items():\n",
    "\n",
    "    print(key.capitalize(),'\\t:\\t', value)"
   ]
  },
  {
   "cell_type": "code",
   "execution_count": 88,
   "id": "603f83d5",
   "metadata": {},
   "outputs": [
    {
     "name": "stdout",
     "output_type": "stream",
     "text": [
      "dict_keys(['name', 'age', 'sex'])\n"
     ]
    }
   ],
   "source": [
    "print(person.keys())"
   ]
  },
  {
   "cell_type": "code",
   "execution_count": 89,
   "id": "82d40550",
   "metadata": {},
   "outputs": [
    {
     "name": "stdout",
     "output_type": "stream",
     "text": [
      "(1, 2, 3) (4, 5, 6)\n",
      "(1, 2, 3, 4, 5, 6)\n"
     ]
    }
   ],
   "source": [
    "t1 = (1,2,3)\n",
    "\n",
    "t2 = 4,5,6\n",
    "\n",
    "print(t1,t2)\n",
    "\n",
    "\n",
    "t3 = t1 +t2\n",
    "print(t3)"
   ]
  },
  {
   "cell_type": "code",
   "execution_count": 90,
   "id": "8b0f2ea7",
   "metadata": {},
   "outputs": [
    {
     "name": "stdout",
     "output_type": "stream",
     "text": [
      "('a', 'b', 'c', 'd')\n"
     ]
    }
   ],
   "source": [
    "lt = tuple(['a','b','c','d']) \n",
    "print(lt)"
   ]
  },
  {
   "cell_type": "code",
   "execution_count": 93,
   "id": "215f1bbe",
   "metadata": {},
   "outputs": [
    {
     "name": "stdout",
     "output_type": "stream",
     "text": [
      "<class 'int'>\n",
      "<class 'tuple'>\n"
     ]
    }
   ],
   "source": [
    "s = (3)\n",
    "\n",
    "print(type(s))\n",
    "s = (3,)\n",
    "\n",
    "print(type(s))"
   ]
  },
  {
   "cell_type": "code",
   "execution_count": 94,
   "id": "8308669c",
   "metadata": {},
   "outputs": [
    {
     "ename": "TypeError",
     "evalue": "'tuple' object does not support item assignment",
     "output_type": "error",
     "traceback": [
      "\u001b[0;31m---------------------------------------------------------------------------\u001b[0m",
      "\u001b[0;31mTypeError\u001b[0m                                 Traceback (most recent call last)",
      "\u001b[0;32m/tmp/ipykernel_3941/934857470.py\u001b[0m in \u001b[0;36m<module>\u001b[0;34m\u001b[0m\n\u001b[0;32m----> 1\u001b[0;31m \u001b[0mlt\u001b[0m\u001b[0;34m[\u001b[0m\u001b[0;36m2\u001b[0m\u001b[0;34m]\u001b[0m \u001b[0;34m=\u001b[0m \u001b[0;34m\"x\"\u001b[0m\u001b[0;34m\u001b[0m\u001b[0;34m\u001b[0m\u001b[0m\n\u001b[0m",
      "\u001b[0;31mTypeError\u001b[0m: 'tuple' object does not support item assignment"
     ]
    }
   ],
   "source": [
    "lt[2] = \"x\""
   ]
  },
  {
   "cell_type": "code",
   "execution_count": 95,
   "id": "207b2606",
   "metadata": {},
   "outputs": [
    {
     "name": "stdout",
     "output_type": "stream",
     "text": [
      "{1, 2, 3} <class 'set'>\n"
     ]
    }
   ],
   "source": [
    "s = {1,2,3}\n",
    "\n",
    "print(s,type(s))"
   ]
  },
  {
   "cell_type": "code",
   "execution_count": 96,
   "id": "6390cc96",
   "metadata": {},
   "outputs": [
    {
     "name": "stdout",
     "output_type": "stream",
     "text": [
      "{'cherry', 'apple'}\n"
     ]
    }
   ],
   "source": [
    "fset = {\"apple\", \"banana\", \"cherry\"}\n",
    "fset.remove(\"banana\")\n",
    "\n",
    "print(fset)"
   ]
  },
  {
   "cell_type": "code",
   "execution_count": 97,
   "id": "ef2139c0",
   "metadata": {},
   "outputs": [
    {
     "name": "stdout",
     "output_type": "stream",
     "text": [
      "{'cherry', 'apple'}\n"
     ]
    }
   ],
   "source": [
    "fset = {\"apple\", \"banana\", \"cherry\"}\n",
    "fset.discard(\"banana\")\n",
    "\n",
    "print(fset)"
   ]
  },
  {
   "cell_type": "code",
   "execution_count": 98,
   "id": "071bd702",
   "metadata": {},
   "outputs": [
    {
     "name": "stdout",
     "output_type": "stream",
     "text": [
      "set()\n"
     ]
    }
   ],
   "source": [
    "fset = {\"apple\", \"banana\", \"cherry\"}\n",
    "fset.clear()\n",
    "\n",
    "print(fset)"
   ]
  },
  {
   "cell_type": "code",
   "execution_count": 99,
   "id": "efb88488",
   "metadata": {},
   "outputs": [
    {
     "name": "stdout",
     "output_type": "stream",
     "text": [
      "{1, 2, 3, 'c', 'a', 'b'}\n"
     ]
    }
   ],
   "source": [
    "set1 = {\"a\", \"b\" , \"c\"}\n",
    "set2 ={1, 2, 3}\n",
    "\n",
    "set3 = set1.union(set2)\n",
    "\n",
    "print(set3)"
   ]
  },
  {
   "cell_type": "code",
   "execution_count": 100,
   "id": "d17eb479",
   "metadata": {},
   "outputs": [
    {
     "name": "stdout",
     "output_type": "stream",
     "text": [
      "{'apple'}\n"
     ]
    }
   ],
   "source": [
    "x = {\"apple\", \"banana\", \"mango\"}\n",
    "\n",
    "y = {\"google\", \"microsoft\", \"apple\"}\n",
    "\n",
    "z = x.intersection(y)\n",
    "print(z)"
   ]
  },
  {
   "cell_type": "code",
   "execution_count": 101,
   "id": "fd565613",
   "metadata": {},
   "outputs": [
    {
     "name": "stdout",
     "output_type": "stream",
     "text": [
      "[1, 2, 3, 4, 5, 6, 7]\n"
     ]
    }
   ],
   "source": [
    "s = [1,2,3,4,5,5,5,7,6]\n",
    "\n",
    "myset = list(set(s))\n",
    "print(myset)"
   ]
  },
  {
   "cell_type": "code",
   "execution_count": 105,
   "id": "9c82d45f",
   "metadata": {},
   "outputs": [
    {
     "name": "stdout",
     "output_type": "stream",
     "text": [
      "10\n"
     ]
    }
   ],
   "source": [
    "def twice(number):\n",
    "    return 2*number\n",
    "\n",
    "t = twice(5)\n",
    "print(t)"
   ]
  },
  {
   "cell_type": "code",
   "execution_count": 106,
   "id": "a6ab9c17",
   "metadata": {},
   "outputs": [
    {
     "name": "stdout",
     "output_type": "stream",
     "text": [
      "10\n"
     ]
    }
   ],
   "source": [
    "def twice(number):\n",
    "    return 2*number\n",
    "\n",
    "t = twice(5)\n",
    "print(t)"
   ]
  },
  {
   "cell_type": "code",
   "execution_count": 107,
   "id": "a1d45d69",
   "metadata": {},
   "outputs": [
    {
     "name": "stdout",
     "output_type": "stream",
     "text": [
      "Enter the number 2\n",
      "None\n"
     ]
    }
   ],
   "source": [
    "def isPrime(number):\n",
    "    for factor in range(2, (number//2)+1): \n",
    "        if number%factor == 0:\n",
    "\n",
    "            return False\n",
    "\n",
    "            return True\n",
    "\n",
    "number = int(input('Enter the number '))\n",
    "print(isPrime(number))"
   ]
  },
  {
   "cell_type": "code",
   "execution_count": 111,
   "id": "7dc21f52",
   "metadata": {},
   "outputs": [
    {
     "name": "stdout",
     "output_type": "stream",
     "text": [
      "Enter the number 2\n",
      "True\n"
     ]
    }
   ],
   "source": [
    "def isPrime(number):\n",
    "    for factor in range(2, (number//2)+1): \n",
    "        if number%factor == 0:\n",
    "            return False\n",
    "    return True\n",
    "\n",
    "number = int(input('Enter the number '))\n",
    "print(isPrime(number))"
   ]
  },
  {
   "cell_type": "code",
   "execution_count": 112,
   "id": "0106bf1d",
   "metadata": {},
   "outputs": [
    {
     "name": "stdout",
     "output_type": "stream",
     "text": [
      "5 7 11 13 17 19 23 29 31 37 41 43 47 "
     ]
    }
   ],
   "source": [
    "def printPrimes(llimit, ulimit):\n",
    "\n",
    "    for num in range(llimit, ulimit + 1):\n",
    "\n",
    "        if isPrime(num) == True:\n",
    "\n",
    "            print(num, end = ' ')\n",
    "\n",
    "printPrimes(5,50)"
   ]
  },
  {
   "cell_type": "code",
   "execution_count": 113,
   "id": "d145efee",
   "metadata": {},
   "outputs": [
    {
     "name": "stdout",
     "output_type": "stream",
     "text": [
      "7 5\n"
     ]
    }
   ],
   "source": [
    "def swap(x,y):\n",
    "\n",
    "    t = x\n",
    "    x = y\n",
    "    y = t\n",
    "    return x,y\n",
    "\n",
    "a=5\n",
    "b=7\n",
    "\n",
    "a,b = swap(a,b)\n",
    "print(a,b)"
   ]
  },
  {
   "cell_type": "code",
   "execution_count": 114,
   "id": "bc5ce38b",
   "metadata": {},
   "outputs": [
    {
     "name": "stdout",
     "output_type": "stream",
     "text": [
      "9\n"
     ]
    }
   ],
   "source": [
    "class Adder:\n",
    "\n",
    "    def init (self):\n",
    "\n",
    "        self.x = 0\n",
    "\n",
    "        self.y = 0\n",
    "\n",
    "    def setValues(self, x, y):\n",
    "\n",
    "        self.x = x\n",
    "\n",
    "        self.y = y\n",
    "\n",
    "\n",
    "    def calculate(self1):\n",
    "\n",
    "        self1. sum = self1.x + self1. y\n",
    "\n",
    "\n",
    "    def getSum(self):\n",
    "    \n",
    "        return self.sum\n",
    "\n",
    "adder =Adder()\n",
    "adder.setValues(5,4)\n",
    "adder.calculate()\n",
    "print(adder.getSum())"
   ]
  },
  {
   "cell_type": "code",
   "execution_count": 115,
   "id": "6af74ba6",
   "metadata": {},
   "outputs": [
    {
     "name": "stdout",
     "output_type": "stream",
     "text": [
      "0 1 2 3 4 5 6 7 8 9 "
     ]
    }
   ],
   "source": [
    "for x in range(10):\n",
    "    print(x,end=' ')"
   ]
  },
  {
   "cell_type": "code",
   "execution_count": 117,
   "id": "cab06523",
   "metadata": {},
   "outputs": [
    {
     "name": "stdout",
     "output_type": "stream",
     "text": [
      "2 13\n"
     ]
    }
   ],
   "source": [
    "numbers=[1,2,3,4,5,6,7,8,9,10,11,12,13]\n",
    "print(numbers[1],numbers[-1])"
   ]
  },
  {
   "cell_type": "code",
   "execution_count": 118,
   "id": "c92e1e30",
   "metadata": {},
   "outputs": [
    {
     "name": "stdout",
     "output_type": "stream",
     "text": [
      "[6, 7, 8, 9, 10, 11]\n"
     ]
    }
   ],
   "source": [
    "sliced = numbers[5:11]\n",
    "\n",
    "print(sliced)"
   ]
  },
  {
   "cell_type": "code",
   "execution_count": 119,
   "id": "4a7e9fee",
   "metadata": {},
   "outputs": [
    {
     "name": "stdout",
     "output_type": "stream",
     "text": [
      "[6, 7, 8, 9, 10, 11, 12, 13]\n"
     ]
    }
   ],
   "source": [
    "sliced = numbers[5:]\n",
    "print(sliced)"
   ]
  },
  {
   "cell_type": "code",
   "execution_count": 120,
   "id": "f762c14c",
   "metadata": {},
   "outputs": [
    {
     "name": "stdout",
     "output_type": "stream",
     "text": [
      "[1, 2, 3, 4, 5, 6, 7]\n"
     ]
    }
   ],
   "source": [
    "sliced = numbers[:7]\n",
    "print(sliced)"
   ]
  },
  {
   "cell_type": "code",
   "execution_count": 121,
   "id": "df7fa6a1",
   "metadata": {},
   "outputs": [
    {
     "name": "stdout",
     "output_type": "stream",
     "text": [
      "[12, 13]\n"
     ]
    }
   ],
   "source": [
    "sliced = numbers[-2:]\n",
    "\n",
    "print(sliced)"
   ]
  },
  {
   "cell_type": "code",
   "execution_count": 122,
   "id": "f6f52b2d",
   "metadata": {},
   "outputs": [
    {
     "name": "stdout",
     "output_type": "stream",
     "text": [
      "[1, 2, 3, 4, 5, 6, 7]\n"
     ]
    }
   ],
   "source": [
    "numbers = list(range(1, 8))\n",
    "\n",
    "print(numbers)"
   ]
  },
  {
   "cell_type": "code",
   "execution_count": 125,
   "id": "d1f05d6d",
   "metadata": {},
   "outputs": [
    {
     "name": "stdout",
     "output_type": "stream",
     "text": [
      "[1, 4, 9, 16, 25, 36, 49]\n"
     ]
    }
   ],
   "source": [
    "square = [x**2 for x in numbers]\n",
    "\n",
    "print(square)"
   ]
  },
  {
   "cell_type": "code",
   "execution_count": 126,
   "id": "4071811d",
   "metadata": {},
   "outputs": [
    {
     "name": "stdout",
     "output_type": "stream",
     "text": [
      "[1, 9, 25, 49]\n"
     ]
    }
   ],
   "source": [
    "odd_square =[x**2 for x in numbers if x%2 != 0]\n",
    "\n",
    "print(odd_square)"
   ]
  },
  {
   "cell_type": "code",
   "execution_count": 127,
   "id": "9be1004b",
   "metadata": {},
   "outputs": [
    {
     "name": "stdout",
     "output_type": "stream",
     "text": [
      "[(4, 6), (4, 8), (4, 9), (6, 4), (6, 8), (6, 9), (8, 4), (8, 6), (8, 9), (9, 4), (9, 6), (9, 8)]\n"
     ]
    }
   ],
   "source": [
    "A = [4,6,8,9]\n",
    "\n",
    "AxA = [(a,b) for a in A for b in A if a!=b]\n",
    "\n",
    "print(AxA)"
   ]
  },
  {
   "cell_type": "code",
   "execution_count": null,
   "id": "fdee7702",
   "metadata": {},
   "outputs": [],
   "source": []
  }
 ],
 "metadata": {
  "kernelspec": {
   "display_name": "Python 3 (ipykernel)",
   "language": "python",
   "name": "python3"
  },
  "language_info": {
   "codemirror_mode": {
    "name": "ipython",
    "version": 3
   },
   "file_extension": ".py",
   "mimetype": "text/x-python",
   "name": "python",
   "nbconvert_exporter": "python",
   "pygments_lexer": "ipython3",
   "version": "3.9.7"
  }
 },
 "nbformat": 4,
 "nbformat_minor": 5
}
